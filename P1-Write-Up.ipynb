{
 "cells": [
  {
   "cell_type": "markdown",
   "metadata": {},
   "source": [
    "# Self-Driving Car Engineer Nanodegree\n",
    "\n",
    "\n",
    "## Project: **Finding Lane Lines on the Road** \n",
    "***\n",
    "# Write-up\n",
    "\n",
    "---\n",
    "Finding Lane Lines on the Road\n",
    "\n",
    "The goals/steps of this project are the following:\n",
    "\n",
    "- Make a pipeline that finds lane lines on the road\n",
    "- Reflect on your work in a written report\n",
    "\n",
    "---"
   ]
  },
  {
   "cell_type": "markdown",
   "metadata": {},
   "source": [
    "## Reflection\n",
    "\n",
    "1) Describe your pipeline. As part of the description, explain how you modified the draw_lines() function.\n",
    "\n",
    "My pipeline consisted of roughly eight steps. First, I read in the provided test images and converted them to grayscale. Then we filtered our edges to keep the most pronounced and relative ones using the OpenCV Canny function, after smoothing out our grayscale image with the Gaussian Blur function (Gaussian filter). Then I developed a region of interest to only focus on the area we are interested in for lane detection. Then I applied the Hough transform and tinkered with the min_line_length and max_line_gap settings. After that I overlayed the ouput (our lines) on the original image and saved the files in BGR format so they look as they should.\n",
    "\n",
    "In order to draw a single line on the left and right lanes, I modified the draw_lines() function by working out the slopes for lines found and split them up into left and right lists: slightly positive on the right side; slightly negative on the left. I also created y-intercept lists for each side and took the average slopes and average y-intercepts and used them to figure out new X coordinates for each lane line. Limits for the Y coordinates were set at the bottom of the image and near the middle of it (325 of 540).\n",
    "\n",
    "2) Identify potential shortcomings with your current pipeline\n",
    "\n",
    "One potential shortcoming is the fact that my y_min coordinate has been hard coded so if the perspective of the camera changes the algo may not be effective.\n",
    "\n",
    "Another shortcoming would be that my algo requires lane markers and may not be useful in urban situations or on side roads that have no lane lines. \n",
    "\n",
    "3) Suggest possible improvements to your pipeline\n",
    "\n",
    "A possible improvement would be to modify the model to adapt to curves in the road.\n",
    "\n",
    "Another potential improvement could be to account for stationary objects obstructing the camera's view, such as parts of the vehicle itself.\n",
    "\n",
    "---\n",
    "\n"
   ]
  },
  {
   "cell_type": "code",
   "execution_count": null,
   "metadata": {
    "collapsed": true
   },
   "outputs": [],
   "source": []
  }
 ],
 "metadata": {
  "anaconda-cloud": {},
  "kernelspec": {
   "display_name": "Python 3",
   "language": "python",
   "name": "python3"
  },
  "language_info": {
   "codemirror_mode": {
    "name": "ipython",
    "version": 3
   },
   "file_extension": ".py",
   "mimetype": "text/x-python",
   "name": "python",
   "nbconvert_exporter": "python",
   "pygments_lexer": "ipython3",
   "version": "3.5.2"
  },
  "widgets": {
   "state": {},
   "version": "1.1.2"
  }
 },
 "nbformat": 4,
 "nbformat_minor": 0
}
